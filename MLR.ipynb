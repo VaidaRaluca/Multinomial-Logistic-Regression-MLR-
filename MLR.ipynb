{
 "cells": [
  {
   "cell_type": "code",
   "id": "initial_id",
   "metadata": {
    "collapsed": true,
    "ExecuteTime": {
     "end_time": "2025-03-30T17:55:53.237643Z",
     "start_time": "2025-03-30T17:55:45.999092Z"
    }
   },
   "source": [
    "import torch\n",
    "import torch.nn as nn\n",
    "import torch.nn.functional as F\n",
    "from torchvision import datasets, transforms\n",
    "\n",
    "import numpy as np\n",
    "import matplotlib.pyplot as plt\n",
    "\n",
    "device:torch.device = torch.device('cuda' if torch.cuda.is_available() else 'cpu')\n",
    "\n",
    "print('Using PyTorch version:', torch.__version__, ' device:', device)"
   ],
   "outputs": [
    {
     "name": "stdout",
     "output_type": "stream",
     "text": [
      "Using PyTorch version: 2.6.0+cu126  device: cuda\n"
     ]
    }
   ],
   "execution_count": 3
  },
  {
   "metadata": {
    "ExecuteTime": {
     "end_time": "2025-03-30T17:55:53.923769Z",
     "start_time": "2025-03-30T17:55:53.260917Z"
    }
   },
   "cell_type": "code",
   "source": [
    "from torch.utils.data import Dataset\n",
    "import pandas as pd\n",
    "import os\n",
    "from typing import Tuple"
   ],
   "id": "935bd9b977c7d657",
   "outputs": [],
   "execution_count": 4
  },
  {
   "metadata": {
    "ExecuteTime": {
     "end_time": "2025-03-30T17:55:53.939062Z",
     "start_time": "2025-03-30T17:55:53.930682Z"
    }
   },
   "cell_type": "code",
   "source": [
    "# 1\n",
    "class MNISTDataset(Dataset):\n",
    "    def __init__(self, path_csv: str):\n",
    "        \"\"\"\n",
    "        Initializing the dataset, using a path towards the file where the dataset is located\n",
    "        :param path_csv: path towards the file where the dataset is located\n",
    "        \"\"\"\n",
    "        super().__init__()\n",
    "        assert os.path.exists(path_csv) and os.path.isfile(path_csv), f'The path {path_csv} does not indicate a file'\n",
    "        self.path_csv = path_csv\n",
    "\n",
    "        _all_digits : np.ndarray = pd.read_csv(path_csv, header=None).values\n",
    "        _y : np.ndarray = _all_digits[:, 0]\n",
    "        _x : np.ndarray = _all_digits[:, 1:]\n",
    "        _x : np.ndarray = _x / 255\n",
    "        self.x = _x\n",
    "        self.y = _y\n",
    "\n",
    "        self.x = torch.Tensor(self.x)\n",
    "        self.y = torch.Tensor(self.y)\n",
    "\n",
    "    def __len__(self):\n",
    "        \"\"\"\n",
    "        Returns the length of the dataset\n",
    "        :return: the length of the dataset\n",
    "        \"\"\"\n",
    "        return len(self.y)\n",
    "\n",
    "    def __getitem__(self, index: int) -> Tuple[torch.Tensor, torch.Tensor]:\n",
    "        \"\"\"\n",
    "        Returns the pair entry-associated label situated on a certain position\n",
    "        :param index: index on which the vector and its class is stored\n",
    "        :return: pair: input vector with 784 elements and labels\n",
    "        \"\"\"\n",
    "        return self.x[index, :], self.y[index]"
   ],
   "id": "4ec122f3be1487a3",
   "outputs": [],
   "execution_count": 5
  },
  {
   "metadata": {
    "ExecuteTime": {
     "end_time": "2025-03-30T17:55:57.245869Z",
     "start_time": "2025-03-30T17:55:53.948115Z"
    }
   },
   "cell_type": "code",
   "source": [
    "train_ds : MNISTDataset = MNISTDataset('./data/mnist_train.csv')\n",
    "test_ds : MNISTDataset = MNISTDataset('./data/mnist_test.csv')\n",
    "assert len(train_ds) == 60000\n",
    "assert len(test_ds) == 10000"
   ],
   "id": "25bc13458f3785b6",
   "outputs": [],
   "execution_count": 6
  },
  {
   "metadata": {
    "ExecuteTime": {
     "end_time": "2025-03-30T17:55:57.266681Z",
     "start_time": "2025-03-30T17:55:57.253658Z"
    }
   },
   "cell_type": "code",
   "source": [
    "from torch.utils.data import DataLoader\n",
    "batch_size : int = 32 # depends on GPU\n",
    "train_loader : DataLoader = DataLoader(train_ds, batch_size=batch_size, shuffle=True)\n",
    "test_loader : DataLoader = DataLoader(test_ds, batch_size=batch_size)\n",
    "\n",
    "# input data should be tensor with shape batch_size x 784\n",
    "# labels should be tensor with shape of batch_size\n",
    "for data, label in train_loader:\n",
    "    print(data.shape, label.shape)\n",
    "    break\n"
   ],
   "id": "f14102d97ca58287",
   "outputs": [
    {
     "name": "stdout",
     "output_type": "stream",
     "text": [
      "torch.Size([32, 784]) torch.Size([32])\n"
     ]
    }
   ],
   "execution_count": 7
  },
  {
   "metadata": {
    "ExecuteTime": {
     "end_time": "2025-03-30T17:55:57.287899Z",
     "start_time": "2025-03-30T17:55:57.281407Z"
    }
   },
   "cell_type": "code",
   "source": [
    "# 2\n",
    "class MultiLogisticRegression(nn.Module):\n",
    "    def __init__(self, input_size: int = 784, num_classes : int = 10):\n",
    "        \"\"\"\n",
    "        Initializing an object of type MultiLogisticRegression\n",
    "        :param input_size: size of input vector (in this case 784)\n",
    "        :num_classes: number of classes (in this case 10 : 0-9)\n",
    "        \"\"\"\n",
    "        super().__init__()\n",
    "        self.input_size = input_size\n",
    "        self.num_classes = num_classes\n",
    "        self.fully_connected = nn.Linear(input_size, num_classes, bias=True)\n",
    "\n",
    "    # 4\n",
    "    def forward(self, x: torch.Tensor) -> torch.Tensor:\n",
    "        \"\"\"\n",
    "        Performs a forward pass through the multinomial logistic regression model\n",
    "        :param x: input tensor of shape (batch_size, input_dim), where\n",
    "                          input_dim is the number of features\n",
    "        :return: output logits of shape (batch_size, num_classes)\n",
    "        \"\"\"\n",
    "        x : torch.Tensor = self.fully_connected(x)\n",
    "        # x = torch.softmax(x, dim=1) # manually logits -> probabilities; cross entropy loss does that internally regardless\n",
    "        return x"
   ],
   "id": "ccb16954b7364773",
   "outputs": [],
   "execution_count": 8
  },
  {
   "metadata": {
    "ExecuteTime": {
     "end_time": "2025-03-30T17:55:57.306145Z",
     "start_time": "2025-03-30T17:55:57.298972Z"
    }
   },
   "cell_type": "code",
   "source": "model : MultiLogisticRegression = MultiLogisticRegression(input_size=784)",
   "id": "8a37664b0611639c",
   "outputs": [],
   "execution_count": 9
  },
  {
   "metadata": {
    "ExecuteTime": {
     "end_time": "2025-03-30T17:55:57.336573Z",
     "start_time": "2025-03-30T17:55:57.330010Z"
    }
   },
   "cell_type": "code",
   "source": "print(model)",
   "id": "1e7c78630f8374c0",
   "outputs": [
    {
     "name": "stdout",
     "output_type": "stream",
     "text": [
      "MultiLogisticRegression(\n",
      "  (fully_connected): Linear(in_features=784, out_features=10, bias=True)\n",
      ")\n"
     ]
    }
   ],
   "execution_count": 10
  },
  {
   "metadata": {
    "ExecuteTime": {
     "end_time": "2025-03-30T17:55:57.371404Z",
     "start_time": "2025-03-30T17:55:57.354076Z"
    }
   },
   "cell_type": "code",
   "source": [
    "from torchinfo import summary\n",
    "summary(model)"
   ],
   "id": "10341d7049c5d73f",
   "outputs": [
    {
     "data": {
      "text/plain": [
       "=================================================================\n",
       "Layer (type:depth-idx)                   Param #\n",
       "=================================================================\n",
       "MultiLogisticRegression                  --\n",
       "├─Linear: 1-1                            7,850\n",
       "=================================================================\n",
       "Total params: 7,850\n",
       "Trainable params: 7,850\n",
       "Non-trainable params: 0\n",
       "================================================================="
      ]
     },
     "execution_count": 11,
     "metadata": {},
     "output_type": "execute_result"
    }
   ],
   "execution_count": 11
  },
  {
   "metadata": {
    "ExecuteTime": {
     "end_time": "2025-03-30T17:55:57.939206Z",
     "start_time": "2025-03-30T17:55:57.371404Z"
    }
   },
   "cell_type": "code",
   "source": [
    "print(f'device={device}')\n",
    "model.to(device)"
   ],
   "id": "f863b478944f9fb",
   "outputs": [
    {
     "name": "stdout",
     "output_type": "stream",
     "text": [
      "device=cuda\n"
     ]
    },
    {
     "data": {
      "text/plain": [
       "MultiLogisticRegression(\n",
       "  (fully_connected): Linear(in_features=784, out_features=10, bias=True)\n",
       ")"
      ]
     },
     "execution_count": 12,
     "metadata": {},
     "output_type": "execute_result"
    }
   ],
   "execution_count": 12
  },
  {
   "metadata": {
    "ExecuteTime": {
     "end_time": "2025-03-30T17:55:58.145992Z",
     "start_time": "2025-03-30T17:55:57.963323Z"
    }
   },
   "cell_type": "code",
   "source": [
    "for x, y in train_loader:\n",
    "\n",
    "    x, y = x.to(device), y.to(device)\n",
    "\n",
    "    y_hat : torch.Tensor = model(x).squeeze()\n",
    "\n",
    "    # 3\n",
    "    _, predicted_classes = torch.max(y_hat, dim=1) # [value, index]\n",
    "    print(f'Probabilities: {predicted_classes}')\n",
    "\n",
    "    print('How many classes were accurately predicted: ', (predicted_classes == y).sum())\n",
    "\n",
    "    break"
   ],
   "id": "e75da5cb13bc03dd",
   "outputs": [
    {
     "name": "stdout",
     "output_type": "stream",
     "text": [
      "Probabilities: tensor([8, 2, 0, 2, 2, 8, 6, 5, 2, 1, 5, 6, 2, 5, 7, 5, 1, 5, 8, 7, 6, 8, 8, 1,\n",
      "        5, 1, 1, 5, 8, 2, 7, 5], device='cuda:0')\n",
      "How many classes were accurately predicted:  tensor(1, device='cuda:0')\n"
     ]
    }
   ],
   "execution_count": 13
  },
  {
   "metadata": {
    "ExecuteTime": {
     "end_time": "2025-03-30T17:55:58.156094Z",
     "start_time": "2025-03-30T17:55:58.151768Z"
    }
   },
   "cell_type": "code",
   "source": "loss_fn : torch.nn.modules.loss.CrossEntropyLoss = torch.nn.CrossEntropyLoss()",
   "id": "80bf01689b1e23a0",
   "outputs": [],
   "execution_count": 14
  },
  {
   "metadata": {
    "ExecuteTime": {
     "end_time": "2025-03-30T17:55:58.288448Z",
     "start_time": "2025-03-30T17:55:58.280526Z"
    }
   },
   "cell_type": "code",
   "source": [
    "\n",
    "@torch.no_grad()\n",
    "def test(model: nn.Module, loader: DataLoader, device: torch.device, loss_fn:nn.Module) -> Tuple[torch.Tensor, float] :\n",
    "    \"\"\"\n",
    "    Tests the model on the data provided by :param loader:.\n",
    "    :param model: binary logistic regression model\n",
    "    :param loader: a dataloader that provides the data from the dataset being tested\n",
    "    :param device: the device on which the model is running (CPU, GPU, TPU, etc.)\n",
    "    :param loss_fn: loss function\n",
    "    :return: prediction accuracy, prediction loss\n",
    "    \"\"\"\n",
    "\n",
    "    correctly_classified: torch.Tensor = torch.tensor(0, dtype=torch.int, device=device)\n",
    "    total_loss : float = 0\n",
    "    total_items : int = 0\n",
    "\n",
    "    model.eval()\n",
    "    for x, y in loader:\n",
    "        x, y = x.to(device), y.to(device)\n",
    "        y_hat : torch.Tensor  = model(x).squeeze()\n",
    "\n",
    "        _, predicted_classes = torch.max(y_hat, dim=1)\n",
    "\n",
    "        correctly_classified += torch.sum(predicted_classes == y)\n",
    "        total_loss : float = loss_fn(y_hat, y.long()).item() * len(x)\n",
    "        total_items += len(x)\n",
    "\n",
    "    mean_accuracy : torch.Tensor = correctly_classified / total_items\n",
    "    mean_loss : float = total_loss / total_items\n",
    "\n",
    "    return mean_accuracy, mean_loss"
   ],
   "id": "3b27d07245ba3684",
   "outputs": [],
   "execution_count": 15
  },
  {
   "metadata": {
    "ExecuteTime": {
     "end_time": "2025-03-30T17:55:58.639300Z",
     "start_time": "2025-03-30T17:55:58.294724Z"
    }
   },
   "cell_type": "code",
   "source": [
    "test_acc, test_loss = test(model, test_loader, device, loss_fn)\n",
    "print(f'The accuracy of the untrained model: {test_acc * 100:.2f}%')\n",
    "print(f'The error of the untrained model: {test_loss * 100:.5f}')"
   ],
   "id": "f74c490e0c413e08",
   "outputs": [
    {
     "name": "stdout",
     "output_type": "stream",
     "text": [
      "The accuracy of the untrained model: 6.27%\n",
      "The error of the untrained model: 0.37306\n"
     ]
    }
   ],
   "execution_count": 16
  },
  {
   "metadata": {
    "ExecuteTime": {
     "end_time": "2025-03-30T17:55:58.699210Z",
     "start_time": "2025-03-30T17:55:58.690067Z"
    }
   },
   "cell_type": "code",
   "source": "optimizer : torch.optim.Optimizer  = torch.optim.Adam(model.parameters(), lr=0.001, weight_decay=1e-5)",
   "id": "ac260926d0cb430f",
   "outputs": [],
   "execution_count": 17
  },
  {
   "metadata": {
    "ExecuteTime": {
     "end_time": "2025-03-30T17:55:58.710072Z",
     "start_time": "2025-03-30T17:55:58.706279Z"
    }
   },
   "cell_type": "code",
   "source": "epochs : int = 20",
   "id": "e488c8a792713081",
   "outputs": [],
   "execution_count": 18
  },
  {
   "metadata": {
    "ExecuteTime": {
     "end_time": "2025-03-30T17:59:59.555114Z",
     "start_time": "2025-03-30T17:55:58.738445Z"
    }
   },
   "cell_type": "code",
   "source": [
    "losses_train: list[float] = []\n",
    "losses_test: list[float] = []\n",
    "accuracies_train: list[float] = []\n",
    "accuracies_test: list[float] = []\n",
    "for epoch in range(epochs):\n",
    "    model.train()\n",
    "    epoch_loss : int = 0\n",
    "    total_items : int = 0\n",
    "\n",
    "    for x, y in train_loader:\n",
    "        x, y = x.to(device), y.to(device)\n",
    "\n",
    "        # deleting the previously calculated gradients\n",
    "        model.zero_grad()\n",
    "\n",
    "        # predicting conditional probabilities for minibatch of given model\n",
    "        y_hat : torch.Tensor = torch.squeeze(model(x))\n",
    "\n",
    "        # calculating loss function for minibatch\n",
    "        loss : torch.nn.modules.loss.CrossEntropyLoss = loss_fn(y_hat, y.long())\n",
    "\n",
    "        # calculating gradients\n",
    "        loss.backward()\n",
    "\n",
    "        # optimizer applies gradients => learning\n",
    "        optimizer.step()\n",
    "\n",
    "    train_acc, train_loss = test(model, train_loader, device, loss_fn)\n",
    "    test_acc, test_loss = test(model, test_loader, device, loss_fn)\n",
    "    losses_train.append(train_loss)\n",
    "    accuracies_train.append(train_acc)\n",
    "    losses_test.append(test_loss)\n",
    "    accuracies_test.append(test_acc)\n",
    "\n",
    "    print(f'Epoch: {epoch + 1}/{epochs}: train loss = {train_loss:.7f}')\n",
    "    print(f'Epoch: {epoch + 1}/{epochs}: test loss = {test_loss:.7f}')\n",
    "    print(f'Epoch: {epoch + 1}/{epochs}: accuracy on train set = {train_acc * 100:.4f}%')\n",
    "    print(f'Epoch: {epoch + 1}/{epochs}: accuracy on test set  = {test_acc * 100:.4f}%\\n')"
   ],
   "id": "fe960171cfc51a39",
   "outputs": [
    {
     "name": "stdout",
     "output_type": "stream",
     "text": [
      "Epoch: 1/20: train loss = 0.0001512\n",
      "Epoch: 1/20: test loss = 0.0002644\n",
      "Epoch: 1/20: accuracy on train set = 91.3300%\n",
      "Epoch: 1/20: accuracy on test set  = 91.6700%\n",
      "\n",
      "Epoch: 2/20: train loss = 0.0001102\n",
      "Epoch: 2/20: test loss = 0.0002048\n",
      "Epoch: 2/20: accuracy on train set = 92.1300%\n",
      "Epoch: 2/20: accuracy on test set  = 92.2000%\n",
      "\n",
      "Epoch: 3/20: train loss = 0.0002895\n",
      "Epoch: 3/20: test loss = 0.0002060\n",
      "Epoch: 3/20: accuracy on train set = 92.4667%\n",
      "Epoch: 3/20: accuracy on test set  = 92.4200%\n",
      "\n",
      "Epoch: 4/20: train loss = 0.0000391\n",
      "Epoch: 4/20: test loss = 0.0002229\n",
      "Epoch: 4/20: accuracy on train set = 92.5700%\n",
      "Epoch: 4/20: accuracy on test set  = 92.5900%\n",
      "\n",
      "Epoch: 5/20: train loss = 0.0001394\n",
      "Epoch: 5/20: test loss = 0.0002084\n",
      "Epoch: 5/20: accuracy on train set = 92.7667%\n",
      "Epoch: 5/20: accuracy on test set  = 92.6400%\n",
      "\n",
      "Epoch: 6/20: train loss = 0.0000966\n",
      "Epoch: 6/20: test loss = 0.0002063\n",
      "Epoch: 6/20: accuracy on train set = 93.0433%\n",
      "Epoch: 6/20: accuracy on test set  = 92.6200%\n",
      "\n",
      "Epoch: 7/20: train loss = 0.0001249\n",
      "Epoch: 7/20: test loss = 0.0001829\n",
      "Epoch: 7/20: accuracy on train set = 93.1300%\n",
      "Epoch: 7/20: accuracy on test set  = 92.6300%\n",
      "\n",
      "Epoch: 8/20: train loss = 0.0001312\n",
      "Epoch: 8/20: test loss = 0.0002209\n",
      "Epoch: 8/20: accuracy on train set = 93.0600%\n",
      "Epoch: 8/20: accuracy on test set  = 92.5600%\n",
      "\n",
      "Epoch: 9/20: train loss = 0.0004277\n",
      "Epoch: 9/20: test loss = 0.0001618\n",
      "Epoch: 9/20: accuracy on train set = 93.0800%\n",
      "Epoch: 9/20: accuracy on test set  = 92.5700%\n",
      "\n",
      "Epoch: 10/20: train loss = 0.0001499\n",
      "Epoch: 10/20: test loss = 0.0002113\n",
      "Epoch: 10/20: accuracy on train set = 93.2817%\n",
      "Epoch: 10/20: accuracy on test set  = 92.7400%\n",
      "\n",
      "Epoch: 11/20: train loss = 0.0002632\n",
      "Epoch: 11/20: test loss = 0.0001921\n",
      "Epoch: 11/20: accuracy on train set = 93.3217%\n",
      "Epoch: 11/20: accuracy on test set  = 92.8800%\n",
      "\n",
      "Epoch: 12/20: train loss = 0.0000520\n",
      "Epoch: 12/20: test loss = 0.0002100\n",
      "Epoch: 12/20: accuracy on train set = 93.2383%\n",
      "Epoch: 12/20: accuracy on test set  = 92.7700%\n",
      "\n",
      "Epoch: 13/20: train loss = 0.0001665\n",
      "Epoch: 13/20: test loss = 0.0001881\n",
      "Epoch: 13/20: accuracy on train set = 93.3967%\n",
      "Epoch: 13/20: accuracy on test set  = 92.8200%\n",
      "\n",
      "Epoch: 14/20: train loss = 0.0000962\n",
      "Epoch: 14/20: test loss = 0.0001907\n",
      "Epoch: 14/20: accuracy on train set = 93.3600%\n",
      "Epoch: 14/20: accuracy on test set  = 92.6300%\n",
      "\n",
      "Epoch: 15/20: train loss = 0.0001137\n",
      "Epoch: 15/20: test loss = 0.0001932\n",
      "Epoch: 15/20: accuracy on train set = 93.3883%\n",
      "Epoch: 15/20: accuracy on test set  = 92.6800%\n",
      "\n",
      "Epoch: 16/20: train loss = 0.0001845\n",
      "Epoch: 16/20: test loss = 0.0001725\n",
      "Epoch: 16/20: accuracy on train set = 93.4100%\n",
      "Epoch: 16/20: accuracy on test set  = 92.7400%\n",
      "\n",
      "Epoch: 17/20: train loss = 0.0001568\n",
      "Epoch: 17/20: test loss = 0.0001719\n",
      "Epoch: 17/20: accuracy on train set = 93.2883%\n",
      "Epoch: 17/20: accuracy on test set  = 92.7100%\n",
      "\n",
      "Epoch: 18/20: train loss = 0.0001034\n",
      "Epoch: 18/20: test loss = 0.0001971\n",
      "Epoch: 18/20: accuracy on train set = 93.3483%\n",
      "Epoch: 18/20: accuracy on test set  = 92.6400%\n",
      "\n",
      "Epoch: 19/20: train loss = 0.0002007\n",
      "Epoch: 19/20: test loss = 0.0001932\n",
      "Epoch: 19/20: accuracy on train set = 93.6217%\n",
      "Epoch: 19/20: accuracy on test set  = 92.9000%\n",
      "\n",
      "Epoch: 20/20: train loss = 0.0001189\n",
      "Epoch: 20/20: test loss = 0.0002547\n",
      "Epoch: 20/20: accuracy on train set = 93.5067%\n",
      "Epoch: 20/20: accuracy on test set  = 92.5800%\n",
      "\n"
     ]
    }
   ],
   "execution_count": 19
  },
  {
   "metadata": {
    "ExecuteTime": {
     "end_time": "2025-03-30T17:59:59.738128Z",
     "start_time": "2025-03-30T17:59:59.733166Z"
    }
   },
   "cell_type": "code",
   "source": [
    "import os\n",
    "os.environ[\"KMP_DUPLICATE_LIB_OK\"]=\"TRUE\""
   ],
   "id": "2645f4b2dc3996d6",
   "outputs": [],
   "execution_count": 20
  },
  {
   "metadata": {
    "ExecuteTime": {
     "end_time": "2025-03-30T18:00:00.075276Z",
     "start_time": "2025-03-30T17:59:59.860298Z"
    }
   },
   "cell_type": "code",
   "source": [
    "plt.plot(losses_train, label='train loss', color='blue')\n",
    "plt.plot(losses_test, label='test loss', color='red')\n",
    "plt.legend()\n",
    "plt.xlabel('Epoch')\n",
    "plt.ylabel('Error')\n",
    "plt.title(f'Loss function value during learning')\n",
    "plt.show()"
   ],
   "id": "9c859a8118b6c66b",
   "outputs": [
    {
     "data": {
      "text/plain": [
       "<Figure size 640x480 with 1 Axes>"
      ],
      "image/png": "[encoded data removed]"
     },
     "metadata": {},
     "output_type": "display_data"
    }
   ],
   "execution_count": 21
  },
  {
   "metadata": {
    "ExecuteTime": {
     "end_time": "2025-03-30T18:00:00.218925Z",
     "start_time": "2025-03-30T18:00:00.075276Z"
    }
   },
   "cell_type": "code",
   "source": [
    "plt.plot([acc.cpu().item() for acc in accuracies_train], label='train accuracy', color='blue')\n",
    "plt.plot([acc.cpu().item() for acc in accuracies_test], label='test accuracy', color='red')\n",
    "plt.legend()\n",
    "plt.xlabel('Epoch')\n",
    "plt.ylabel('Accuracy on train set')\n",
    "plt.title(f'Accuracy on test set')\n",
    "plt.show()"
   ],
   "id": "2a3044636b0463b7",
   "outputs": [
    {
     "data": {
      "text/plain": [
       "<Figure size 640x480 with 1 Axes>"
      ],
      "image/png": "[encoded data removed]"
     },
     "metadata": {},
     "output_type": "display_data"
    }
   ],
   "execution_count": 22
  },
  {
   "metadata": {
    "ExecuteTime": {
     "end_time": "2025-03-30T18:00:00.304704Z",
     "start_time": "2025-03-30T18:00:00.296842Z"
    }
   },
   "cell_type": "code",
   "source": "",
   "id": "58cd01f524454e48",
   "outputs": [],
   "execution_count": null
  }
 ],
 "metadata": {
  "kernelspec": {
   "display_name": "Python 3",
   "language": "python",
   "name": "python3"
  },
  "language_info": {
   "codemirror_mode": {
    "name": "ipython",
    "version": 2
   },
   "file_extension": ".py",
   "mimetype": "text/x-python",
   "name": "python",
   "nbconvert_exporter": "python",
   "pygments_lexer": "ipython2",
   "version": "2.7.6"
  }
 },
 "nbformat": 4,
 "nbformat_minor": 5
}
